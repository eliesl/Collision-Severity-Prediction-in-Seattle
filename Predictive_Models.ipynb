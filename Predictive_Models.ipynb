{
 "cells": [
  {
   "cell_type": "code",
   "execution_count": 29,
   "metadata": {},
   "outputs": [],
   "source": [
    "import pandas as pd\n",
    "import numpy as np\n",
    "from sklearn.neighbors import KNeighborsClassifier\n",
    "from sklearn.ensemble import RandomForestClassifier\n",
    "from sklearn.tree import DecisionTreeClassifier\n",
    "from sklearn.linear_model import LogisticRegression\n",
    "from sklearn.preprocessing import StandardScaler\n",
    "from sklearn.model_selection import train_test_split\n",
    "from sklearn.metrics import accuracy_score, f1_score, r2_score, confusion_matrix, classification_report\n",
    "from sklearn.model_selection import GridSearchCV\n",
    "from sklearn.naive_bayes import GaussianNB\n",
    "import matplotlib.pyplot as plt"
   ]
  },
  {
   "cell_type": "markdown",
   "metadata": {},
   "source": [
    "### Reading Data"
   ]
  },
  {
   "cell_type": "code",
   "execution_count": 2,
   "metadata": {},
   "outputs": [],
   "source": [
    "# Read Seattle Collison Data, .csv file\n",
    "df = pd.read_csv(\"Collisions.csv\")"
   ]
  },
  {
   "cell_type": "markdown",
   "metadata": {},
   "source": [
    "### Feature Selection"
   ]
  },
  {
   "cell_type": "code",
   "execution_count": 3,
   "metadata": {},
   "outputs": [],
   "source": [
    "# Keep columns which are predictors\n",
    "df2 = df.loc[:,['ADDRTYPE', 'SEVERITYCODE', 'COLLISIONTYPE', 'PERSONCOUNT', 'PEDCOUNT', 'PEDCYLCOUNT', 'VEHCOUNT', 'INJURIES', 'SERIOUSINJURIES', \\\n",
    "         'FATALITIES', 'JUNCTIONTYPE', 'INATTENTIONIND', 'UNDERINFL', 'WEATHER', 'ROADCOND', 'LIGHTCOND', 'SPEEDING', 'HITPARKEDCAR']]"
   ]
  },
  {
   "cell_type": "markdown",
   "metadata": {},
   "source": [
    "### Cleaning Data"
   ]
  },
  {
   "cell_type": "markdown",
   "metadata": {},
   "source": [
    "#### Removing Null Values"
   ]
  },
  {
   "cell_type": "code",
   "execution_count": 4,
   "metadata": {},
   "outputs": [],
   "source": [
    "# Removing Null values\n",
    "df2.replace({'ADDRTYPE' : {np.nan : 'Unknown'}}, inplace=True)\n",
    "df2.replace({'COLLISIONTYPE' : {np.nan : 'Unknown'}}, inplace=True)\n",
    "df2.replace({'JUNCTIONTYPE' : {np.nan : 'Unknown'}}, inplace=True)\n",
    "df2.replace({'INATTENTIONIND' : {np.nan: 'N'}}, inplace=True)\n",
    "df2.replace({'UNDERINFL' : {np.nan : 'Unknown', '0': 'N', '1': 'Y'}}, inplace=True)\n",
    "df2.replace({'ROADCOND' : {np.nan: 'Unknown'}}, inplace=True)\n",
    "df2.replace({'LIGHTCOND' : {np.nan: 'Unknown'}}, inplace=True)\n",
    "df2.replace({'WEATHER' : {np.nan : 'Unknown'}}, inplace=True)\n",
    "df2.replace({'SPEEDING' : {np.nan: 'N'}}, inplace=True)"
   ]
  },
  {
   "cell_type": "markdown",
   "metadata": {},
   "source": [
    "#### Removing Unkonwn Collision Severity Type"
   ]
  },
  {
   "cell_type": "code",
   "execution_count": 5,
   "metadata": {},
   "outputs": [],
   "source": [
    "# Removing 'Unknown' severity (SEVERITYCODE = 0)\n",
    "df2['SEVERITYCODE'].replace('0', np.nan, inplace=True)\n",
    "df2.dropna(axis=0, how='any',thresh=None, subset=['SEVERITYCODE'], inplace=True)"
   ]
  },
  {
   "cell_type": "code",
   "execution_count": 6,
   "metadata": {},
   "outputs": [],
   "source": [
    "# Shift severity 2b to 3, and severity 3 to 4\n",
    "df2['SEVERITYCODE'].replace('3', '4', inplace=True)\n",
    "df2['SEVERITYCODE'].replace('2b', '3', inplace=True)"
   ]
  },
  {
   "cell_type": "markdown",
   "metadata": {},
   "source": [
    "#### Balancing Data"
   ]
  },
  {
   "cell_type": "code",
   "execution_count": 7,
   "metadata": {},
   "outputs": [],
   "source": [
    "# Convert severity type to integer type\n",
    "df2['SEVERITYCODE'] = df2['SEVERITYCODE'].astype('int')\n",
    "df2['Severity1'] = 0\n",
    "df2.loc[df2['SEVERITYCODE'] == 1, 'Severity1'] = 1\n",
    "df2['Severity2'] = 0\n",
    "df2.loc[df2['SEVERITYCODE'] == 2, 'Severity2'] = 1\n",
    "df2['Severity3'] = 0\n",
    "df2.loc[df2['SEVERITYCODE'] == 3, 'Severity3'] = 1\n",
    "df2['Severity4'] = 0\n",
    "df2.loc[df2['SEVERITYCODE'] == 4, 'Severity4'] = 1\n",
    "# Undersample/Oversample of each severity type to 5000 samples\n",
    "df2 = pd.concat([df2[df2['Severity4']==1].sample(5000, replace = True),\\\n",
    "                df2[df2['Severity3']==1].sample(5000, replace = True),\\\n",
    "                df2[df2['Severity2']==1].sample(5000, replace = True),\\\n",
    "                df2[df2['Severity1']==1].sample(5000, replace = True)], axis=0)"
   ]
  },
  {
   "cell_type": "markdown",
   "metadata": {},
   "source": [
    "#### Converting Categorical Features to Numerical Features"
   ]
  },
  {
   "cell_type": "code",
   "execution_count": 8,
   "metadata": {},
   "outputs": [],
   "source": [
    "# Converting categorial features to numerical features\n",
    "df3 = df2.drop(['SEVERITYCODE', 'Severity1', 'Severity2', 'Severity3', 'Severity4'], axis=1)\n",
    "df3 = pd.get_dummies(df3, drop_first=True, dtype='int64')"
   ]
  },
  {
   "cell_type": "markdown",
   "metadata": {},
   "source": [
    "#### Removing Unknown Features"
   ]
  },
  {
   "cell_type": "code",
   "execution_count": 9,
   "metadata": {},
   "outputs": [],
   "source": [
    "# droping  the columns having 'Unknown' in their titles\n",
    "df3.drop(df3.columns[df3.columns.str.contains('Unknown')], axis=1, inplace=True)"
   ]
  },
  {
   "cell_type": "markdown",
   "metadata": {},
   "source": [
    "### Data Preparation"
   ]
  },
  {
   "cell_type": "markdown",
   "metadata": {},
   "source": [
    "#### Feature Standardising "
   ]
  },
  {
   "cell_type": "code",
   "execution_count": 10,
   "metadata": {},
   "outputs": [
    {
     "name": "stderr",
     "output_type": "stream",
     "text": [
      "C:\\Users\\Jerry\\Anaconda3\\lib\\site-packages\\sklearn\\utils\\validation.py:475: DataConversionWarning: Data with input dtype int64 was converted to float64 by StandardScaler.\n",
      "  warnings.warn(msg, DataConversionWarning)\n"
     ]
    }
   ],
   "source": [
    "Y = df2['SEVERITYCODE'].values\n",
    "Y = Y.astype(int)\n",
    "X = df3.loc[:,:].values\n",
    "X = StandardScaler().fit(X).transform(X)"
   ]
  },
  {
   "cell_type": "markdown",
   "metadata": {},
   "source": [
    "#### Data Split"
   ]
  },
  {
   "cell_type": "code",
   "execution_count": 31,
   "metadata": {},
   "outputs": [],
   "source": [
    "X_train, X_test, y_train, y_test = train_test_split(X, Y, test_size=0.2, random_state=21, stratify=Y)"
   ]
  },
  {
   "cell_type": "markdown",
   "metadata": {},
   "source": [
    "### Predictive Models"
   ]
  },
  {
   "cell_type": "markdown",
   "metadata": {},
   "source": [
    "#### K-Nearest Neighbors"
   ]
  },
  {
   "cell_type": "code",
   "execution_count": 32,
   "metadata": {},
   "outputs": [
    {
     "name": "stdout",
     "output_type": "stream",
     "text": [
      " k is:  3\n",
      "Results :              precision    recall  f1-score   support\n",
      "\n",
      "          1       0.89      0.86      0.87      1031\n",
      "          2       0.83      0.87      0.85       953\n",
      "          3       0.91      0.90      0.90      1010\n",
      "          4       1.00      0.99      1.00      1006\n",
      "\n",
      "avg / total       0.91      0.91      0.91      4000\n",
      "\n",
      " k is:  4\n",
      "Results :              precision    recall  f1-score   support\n",
      "\n",
      "          1       0.91      0.83      0.87      1089\n",
      "          2       0.80      0.85      0.83       941\n",
      "          3       0.88      0.91      0.89       961\n",
      "          4       1.00      0.99      1.00      1009\n",
      "\n",
      "avg / total       0.90      0.90      0.90      4000\n",
      "\n",
      " k is:  5\n",
      "Results :              precision    recall  f1-score   support\n",
      "\n",
      "          1       0.90      0.84      0.86      1074\n",
      "          2       0.80      0.84      0.82       952\n",
      "          3       0.87      0.90      0.89       962\n",
      "          4       1.00      0.99      0.99      1012\n",
      "\n",
      "avg / total       0.89      0.89      0.89      4000\n",
      "\n",
      " k is:  6\n",
      "Results :              precision    recall  f1-score   support\n",
      "\n",
      "          1       0.91      0.82      0.87      1110\n",
      "          2       0.79      0.85      0.82       922\n",
      "          3       0.86      0.90      0.88       950\n",
      "          4       1.00      0.98      0.99      1018\n",
      "\n",
      "avg / total       0.89      0.89      0.89      4000\n",
      "\n",
      " k is:  7\n",
      "Results :              precision    recall  f1-score   support\n",
      "\n",
      "          1       0.90      0.85      0.87      1053\n",
      "          2       0.80      0.84      0.82       948\n",
      "          3       0.86      0.88      0.87       975\n",
      "          4       1.00      0.98      0.99      1024\n",
      "\n",
      "avg / total       0.89      0.89      0.89      4000\n",
      "\n",
      " k is:  8\n",
      "Results :              precision    recall  f1-score   support\n",
      "\n",
      "          1       0.91      0.84      0.87      1080\n",
      "          2       0.80      0.85      0.83       945\n",
      "          3       0.85      0.90      0.87       946\n",
      "          4       1.00      0.97      0.99      1029\n",
      "\n",
      "avg / total       0.89      0.89      0.89      4000\n",
      "\n",
      " k is:  9\n",
      "Results :              precision    recall  f1-score   support\n",
      "\n",
      "          1       0.89      0.85      0.87      1053\n",
      "          2       0.80      0.85      0.82       942\n",
      "          3       0.85      0.88      0.87       966\n",
      "          4       1.00      0.96      0.98      1039\n",
      "\n",
      "avg / total       0.89      0.89      0.89      4000\n",
      "\n",
      " k is:  10\n",
      "Results :              precision    recall  f1-score   support\n",
      "\n",
      "          1       0.89      0.84      0.86      1053\n",
      "          2       0.80      0.82      0.81       973\n",
      "          3       0.83      0.89      0.86       930\n",
      "          4       1.00      0.96      0.98      1044\n",
      "\n",
      "avg / total       0.88      0.88      0.88      4000\n",
      "\n",
      " k is:  11\n",
      "Results :              precision    recall  f1-score   support\n",
      "\n",
      "          1       0.88      0.84      0.86      1051\n",
      "          2       0.80      0.83      0.81       968\n",
      "          3       0.83      0.89      0.86       935\n",
      "          4       1.00      0.96      0.98      1046\n",
      "\n",
      "avg / total       0.88      0.88      0.88      4000\n",
      "\n",
      " k is:  12\n",
      "Results :              precision    recall  f1-score   support\n",
      "\n",
      "          1       0.88      0.82      0.85      1072\n",
      "          2       0.78      0.81      0.80       966\n",
      "          3       0.81      0.88      0.85       920\n",
      "          4       0.99      0.95      0.97      1042\n",
      "\n",
      "avg / total       0.87      0.87      0.87      4000\n",
      "\n",
      " k is:  13\n",
      "Results :              precision    recall  f1-score   support\n",
      "\n",
      "          1       0.88      0.83      0.85      1054\n",
      "          2       0.79      0.81      0.80       970\n",
      "          3       0.81      0.88      0.84       930\n",
      "          4       0.99      0.95      0.97      1046\n",
      "\n",
      "avg / total       0.87      0.87      0.87      4000\n",
      "\n",
      " k is:  14\n",
      "Results :              precision    recall  f1-score   support\n",
      "\n",
      "          1       0.88      0.82      0.85      1075\n",
      "          2       0.78      0.80      0.79       966\n",
      "          3       0.81      0.88      0.84       914\n",
      "          4       0.99      0.95      0.97      1045\n",
      "\n",
      "avg / total       0.87      0.86      0.87      4000\n",
      "\n",
      " k is:  15\n",
      "Results :              precision    recall  f1-score   support\n",
      "\n",
      "          1       0.88      0.82      0.85      1070\n",
      "          2       0.78      0.81      0.79       966\n",
      "          3       0.81      0.87      0.84       921\n",
      "          4       0.99      0.95      0.97      1043\n",
      "\n",
      "avg / total       0.87      0.86      0.86      4000\n",
      "\n",
      " k is:  16\n",
      "Results :              precision    recall  f1-score   support\n",
      "\n",
      "          1       0.87      0.81      0.84      1077\n",
      "          2       0.77      0.80      0.79       961\n",
      "          3       0.80      0.87      0.83       917\n",
      "          4       0.99      0.95      0.97      1045\n",
      "\n",
      "avg / total       0.86      0.86      0.86      4000\n",
      "\n",
      " k is:  17\n",
      "Results :              precision    recall  f1-score   support\n",
      "\n",
      "          1       0.87      0.81      0.84      1069\n",
      "          2       0.77      0.80      0.79       959\n",
      "          3       0.79      0.87      0.83       907\n",
      "          4       0.99      0.93      0.96      1065\n",
      "\n",
      "avg / total       0.86      0.85      0.86      4000\n",
      "\n",
      " k is:  18\n",
      "Results :              precision    recall  f1-score   support\n",
      "\n",
      "          1       0.87      0.79      0.83      1097\n",
      "          2       0.75      0.79      0.77       950\n",
      "          3       0.78      0.88      0.82       885\n",
      "          4       0.99      0.93      0.96      1068\n",
      "\n",
      "avg / total       0.85      0.85      0.85      4000\n",
      "\n",
      " k is:  19\n",
      "Results :              precision    recall  f1-score   support\n",
      "\n",
      "          1       0.86      0.79      0.82      1091\n",
      "          2       0.75      0.79      0.77       951\n",
      "          3       0.77      0.87      0.82       886\n",
      "          4       0.99      0.92      0.96      1072\n",
      "\n",
      "avg / total       0.85      0.84      0.85      4000\n",
      "\n",
      " k is:  20\n",
      "Results :              precision    recall  f1-score   support\n",
      "\n",
      "          1       0.86      0.78      0.82      1102\n",
      "          2       0.75      0.78      0.76       951\n",
      "          3       0.75      0.86      0.80       876\n",
      "          4       0.98      0.92      0.95      1071\n",
      "\n",
      "avg / total       0.84      0.84      0.84      4000\n",
      "\n"
     ]
    }
   ],
   "source": [
    " for k in range (3,21):\n",
    "        knn = KNeighborsClassifier(n_neighbors = k).fit(X_train,y_train)\n",
    "        knn_pred = knn.predict(X_test)\n",
    "        print(\" k is: \", k)\n",
    "        print('Results :',classification_report(knn_pred, y_test))\n",
    "# K= 3 gives the best results"
   ]
  },
  {
   "cell_type": "markdown",
   "metadata": {},
   "source": [
    "#### Logistic Regression"
   ]
  },
  {
   "cell_type": "code",
   "execution_count": 33,
   "metadata": {
    "scrolled": true
   },
   "outputs": [
    {
     "name": "stdout",
     "output_type": "stream",
     "text": [
      "C is:  1\n",
      "Results :              precision    recall  f1-score   support\n",
      "\n",
      "          1       1.00      1.00      1.00      1000\n",
      "          2       1.00      0.99      0.99      1012\n",
      "          3       0.99      1.00      0.99       988\n",
      "          4       1.00      1.00      1.00      1000\n",
      "\n",
      "avg / total       1.00      1.00      1.00      4000\n",
      "\n",
      "C is:  0.5\n",
      "Results :              precision    recall  f1-score   support\n",
      "\n",
      "          1       1.00      1.00      1.00      1000\n",
      "          2       1.00      0.99      0.99      1013\n",
      "          3       0.99      1.00      0.99       987\n",
      "          4       1.00      1.00      1.00      1000\n",
      "\n",
      "avg / total       1.00      1.00      1.00      4000\n",
      "\n",
      "C is:  0.1\n",
      "Results :              precision    recall  f1-score   support\n",
      "\n",
      "          1       1.00      1.00      1.00      1002\n",
      "          2       0.99      0.97      0.98      1025\n",
      "          3       0.97      1.00      0.98       973\n",
      "          4       1.00      1.00      1.00      1000\n",
      "\n",
      "avg / total       0.99      0.99      0.99      4000\n",
      "\n",
      "C is:  0.05\n",
      "Results :              precision    recall  f1-score   support\n",
      "\n",
      "          1       0.99      0.99      0.99      1002\n",
      "          2       0.99      0.96      0.97      1027\n",
      "          3       0.97      1.00      0.98       971\n",
      "          4       1.00      1.00      1.00      1000\n",
      "\n",
      "avg / total       0.99      0.99      0.99      4000\n",
      "\n",
      "C is:  0.01\n",
      "Results :              precision    recall  f1-score   support\n",
      "\n",
      "          1       0.99      0.91      0.95      1087\n",
      "          2       0.91      0.97      0.94       942\n",
      "          3       0.97      0.99      0.98       982\n",
      "          4       0.99      1.00      0.99       989\n",
      "\n",
      "avg / total       0.97      0.96      0.96      4000\n",
      "\n",
      "C is:  0.005\n",
      "Results :              precision    recall  f1-score   support\n",
      "\n",
      "          1       0.98      0.88      0.93      1115\n",
      "          2       0.89      0.96      0.92       921\n",
      "          3       0.94      0.97      0.95       975\n",
      "          4       0.99      1.00      0.99       989\n",
      "\n",
      "avg / total       0.95      0.95      0.95      4000\n",
      "\n"
     ]
    }
   ],
   "source": [
    "c_list = [1, 0.5, 0.1, 0.05, 0.01, 0.005]\n",
    "for C in c_list: \n",
    "    lr = LogisticRegression(C=C).fit(X_train,y_train)\n",
    "    lr_pred = lr.predict(X_test)\n",
    "    print(\"C is: \", C)\n",
    "    print('Results :',classification_report(lr_pred, y_test))\n",
    "# For the selected range, 0.01 < C < 1 is givig the best results."
   ]
  },
  {
   "cell_type": "markdown",
   "metadata": {},
   "source": [
    "#### Decision Tree"
   ]
  },
  {
   "cell_type": "code",
   "execution_count": 16,
   "metadata": {},
   "outputs": [
    {
     "name": "stdout",
     "output_type": "stream",
     "text": [
      "Fitting 3 folds for each of 30 candidates, totalling 90 fits\n",
      "Best Parameters:  {'criterion': 'entropy', 'max_features': None, 'min_samples_split': 5}\n"
     ]
    },
    {
     "name": "stderr",
     "output_type": "stream",
     "text": [
      "[Parallel(n_jobs=1)]: Done  90 out of  90 | elapsed:    2.1s finished\n"
     ]
    }
   ],
   "source": [
    "# Finding best parameters for the model\n",
    "DT_grid = {'criterion': ['entropy', 'gini'], 'min_samples_split': [2, 5, 7, 10, 15], 'max_features': [None, 'log2', 'sqrt']}\n",
    "CV_DT = GridSearchCV(DecisionTreeClassifier(random_state=42), DT_grid, verbose=1, cv=3)\n",
    "CV_DT.fit(X_train, y_train)\n",
    "print('Best Parameters: ', CV_DT.best_params_)"
   ]
  },
  {
   "cell_type": "code",
   "execution_count": 17,
   "metadata": {},
   "outputs": [
    {
     "name": "stdout",
     "output_type": "stream",
     "text": [
      "Results :              precision    recall  f1-score   support\n",
      "\n",
      "          1       1.00      1.00      1.00      1000\n",
      "          2       1.00      1.00      1.00       998\n",
      "          3       1.00      1.00      1.00      1002\n",
      "          4       1.00      1.00      1.00      1000\n",
      "\n",
      "avg / total       1.00      1.00      1.00      4000\n",
      "\n"
     ]
    }
   ],
   "source": [
    "tree = DecisionTreeClassifier(criterion=\"entropy\", min_samples_split = 5).fit(X_train, y_train)\n",
    "tree_pred = tree.predict(X_test)\n",
    "print('Results :',classification_report(tree_pred, y_test))"
   ]
  },
  {
   "cell_type": "markdown",
   "metadata": {},
   "source": [
    "#### Random Forest"
   ]
  },
  {
   "cell_type": "code",
   "execution_count": 25,
   "metadata": {},
   "outputs": [
    {
     "name": "stdout",
     "output_type": "stream",
     "text": [
      "Fitting 3 folds for each of 120 candidates, totalling 360 fits\n"
     ]
    },
    {
     "name": "stderr",
     "output_type": "stream",
     "text": [
      "[Parallel(n_jobs=1)]: Done 360 out of 360 | elapsed:  4.0min finished\n"
     ]
    },
    {
     "name": "stdout",
     "output_type": "stream",
     "text": [
      "Best Parameters:  {'criterion': 'entropy', 'max_features': 'sqrt', 'min_samples_split': 2, 'n_estimators': 50}\n"
     ]
    }
   ],
   "source": [
    "# Finding best parameters for the model\n",
    "DT_grid = {'n_estimators': [20, 50, 70, 100], 'criterion': ['entropy', 'gini'], 'min_samples_split': [2, 5, 7, 10, 15], 'max_features': [None, 'log2', 'sqrt']}\n",
    "CV_RF = GridSearchCV(RandomForestClassifier(random_state=42), DT_grid, verbose=1, cv=3)\n",
    "CV_RF.fit(X_train, y_train)\n",
    "print('Best Parameters: ', CV_RF.best_params_)"
   ]
  },
  {
   "cell_type": "code",
   "execution_count": 27,
   "metadata": {},
   "outputs": [
    {
     "name": "stdout",
     "output_type": "stream",
     "text": [
      "Results :              precision    recall  f1-score   support\n",
      "\n",
      "          1       1.00      1.00      1.00      1000\n",
      "          2       0.99      1.00      1.00       996\n",
      "          3       1.00      0.99      1.00      1004\n",
      "          4       1.00      1.00      1.00      1000\n",
      "\n",
      "avg / total       1.00      1.00      1.00      4000\n",
      "\n"
     ]
    }
   ],
   "source": [
    "rf = RandomForestClassifier(n_estimators= 50, criterion= 'entropy', min_samples_split= 2, max_features= 'sqrt').fit(X_train,y_train)\n",
    "rf_pred = rf.predict(X_test)\n",
    "print('Results :',classification_report(rf_pred, y_test))"
   ]
  },
  {
   "cell_type": "markdown",
   "metadata": {},
   "source": [
    "#### Naive Bayes"
   ]
  },
  {
   "cell_type": "code",
   "execution_count": 24,
   "metadata": {},
   "outputs": [
    {
     "name": "stdout",
     "output_type": "stream",
     "text": [
      "Results :              precision    recall  f1-score   support\n",
      "\n",
      "          1       0.42      1.00      0.60       424\n",
      "          2       0.05      0.94      0.09        49\n",
      "          3       0.02      0.67      0.04        27\n",
      "          4       1.00      0.29      0.44      3500\n",
      "\n",
      "avg / total       0.92      0.37      0.45      4000\n",
      "\n"
     ]
    }
   ],
   "source": [
    "nb = GaussianNB().fit(X_train,y_train)\n",
    "nb_pred = nb.predict(X_test)\n",
    "print('Results :',classification_report(nb_pred, y_test))"
   ]
  },
  {
   "cell_type": "markdown",
   "metadata": {},
   "source": [
    "### Comparison"
   ]
  },
  {
   "cell_type": "code",
   "execution_count": 42,
   "metadata": {},
   "outputs": [
    {
     "data": {
      "image/png": "[encoded data removed]",
      "text/plain": [
       "<Figure size 432x288 with 1 Axes>"
      ]
     },
     "metadata": {
      "needs_background": "light"
     },
     "output_type": "display_data"
    }
   ],
   "source": [
    "plt.bar(['K-Nearest Neighbors Classifier', 'Logistic Regression', 'Decision Tree Classifier', 'Naive Bayes Classifier', 'Random Forest Classifier'],\\\n",
    "        [f1_score(y_test, knn_pred, average= 'micro'),f1_score(y_test, lr_pred, average= 'micro'),f1_score(y_test, tree_pred, average= 'micro')\\\n",
    "        ,f1_score(y_test, nb_pred, average= 'micro'),f1_score(y_test, rf_pred, average= 'micro')])\n",
    "plt.xticks(rotation='vertical')\n",
    "plt.ylabel('F-Score')\n",
    "plt.xlabel('Machine Learning Models')\n",
    "plt.show()"
   ]
  }
 ],
 "metadata": {
  "kernelspec": {
   "display_name": "Python 3",
   "language": "python",
   "name": "python3"
  },
  "language_info": {
   "codemirror_mode": {
    "name": "ipython",
    "version": 3
   },
   "file_extension": ".py",
   "mimetype": "text/x-python",
   "name": "python",
   "nbconvert_exporter": "python",
   "pygments_lexer": "ipython3",
   "version": "3.7.0"
  }
 },
 "nbformat": 4,
 "nbformat_minor": 2
}
